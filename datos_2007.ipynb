{
 "cells": [
  {
   "cell_type": "markdown",
   "id": "10a8e56d-cabe-4714-970c-fdf64e018cdf",
   "metadata": {},
   "source": [
    "# 1. Import libraries and modules"
   ]
  },
  {
   "cell_type": "markdown",
   "id": "0a462028-b972-4f15-a3f1-d654e96a5528",
   "metadata": {},
   "source": [
    "## 1.1. Install and import libraries"
   ]
  },
  {
   "cell_type": "code",
   "execution_count": null,
   "id": "63d8766f-ac71-4ead-8632-62a312528ec3",
   "metadata": {},
   "outputs": [],
   "source": [
    "# !pip install selenium\n",
    "# !pip install webdriver-manager"
   ]
  },
  {
   "cell_type": "code",
   "execution_count": null,
   "id": "e6e75603-7bea-4d84-a077-4b71ebd589e3",
   "metadata": {},
   "outputs": [],
   "source": [
    "## LIBRARIES\n",
    "# ---\n",
    "\n",
    "# Selenium\n",
    "from selenium import webdriver\n",
    "from webdriver_manager.chrome import ChromeDriverManager\n",
    "from selenium.webdriver.chrome.service import Service\n",
    "from selenium.webdriver.common.action_chains import ActionChains\n",
    "\n",
    "# For scraping\n",
    "from selenium import webdriver\n",
    "from webdriver_manager.chrome import ChromeDriverManager\n",
    "\n",
    "# Options driver\n",
    "from selenium.webdriver.chrome.options import Options\n",
    "from selenium.webdriver.support.ui import Select\n",
    "\n",
    "# Dataframes\n",
    "import pandas as pd\n",
    "import itertools\n",
    "import os\n",
    "\n",
    "# Simulating human behavior\n",
    "import datetime\n",
    "import time\n",
    "from time import sleep\n",
    "import random\n",
    "\n",
    "# Clear data\n",
    "import unidecode\n",
    "\n",
    "# Json files\n",
    "import json\n",
    "import re\n",
    "import numpy as np\n",
    "import itertools\n",
    "from pandas import json_normalize\n",
    "\n",
    "# To use explicit waits\n",
    "from selenium.webdriver.common.by import By\n",
    "from selenium.webdriver.support.ui import WebDriverWait\n",
    "from selenium.webdriver.support import expected_conditions as EC\n",
    "\n",
    "# Download files\n",
    "import urllib.request\n",
    "import requests\n",
    "from openpyxl import Workbook"
   ]
  },
  {
   "cell_type": "markdown",
   "id": "ba74565e-8dc7-45d3-b78d-55b7d060765c",
   "metadata": {},
   "source": [
    "## 1.2. Import module"
   ]
  },
  {
   "cell_type": "code",
   "execution_count": null,
   "id": "63ec88e3-fa6c-4400-8f69-80dc6c1e19c1",
   "metadata": {},
   "outputs": [],
   "source": [
    "import funcion as fun"
   ]
  },
  {
   "cell_type": "markdown",
   "id": "a318f9dc-0db9-44bc-8b2a-6e07aceabfbd",
   "metadata": {},
   "source": [
    "## 2. Apply"
   ]
  },
  {
   "cell_type": "code",
   "execution_count": null,
   "id": "9082fca2-9588-43de-8bdd-17eaf625c0f8",
   "metadata": {
    "tags": []
   },
   "outputs": [],
   "source": [
    "year = '2007'\n",
    "\n",
    "fun.scrapper_siaf_gastos( year )"
   ]
  }
 ],
 "metadata": {
  "kernelspec": {
   "display_name": "Python 3 (ipykernel)",
   "language": "python",
   "name": "python3"
  },
  "language_info": {
   "codemirror_mode": {
    "name": "ipython",
    "version": 3
   },
   "file_extension": ".py",
   "mimetype": "text/x-python",
   "name": "python",
   "nbconvert_exporter": "python",
   "pygments_lexer": "ipython3",
   "version": "3.9.13"
  }
 },
 "nbformat": 4,
 "nbformat_minor": 5
}
